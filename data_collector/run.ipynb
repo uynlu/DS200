{
 "cells": [
  {
   "cell_type": "code",
   "execution_count": 1,
   "id": "35175494",
   "metadata": {},
   "outputs": [
    {
     "name": "stdout",
     "output_type": "stream",
     "text": [
      "Thư mục làm việc hiện tại: U:\\DataStorage\\UIT\\Semesters\\Semester6\\DS200\\CourseProject\\SourceCode\n"
     ]
    }
   ],
   "source": [
    "import os\n",
    "\n",
    "os.chdir(\"U:\\\\DataStorage\\\\UIT\\\\Semesters\\\\Semester6\\\\DS200\\\\CourseProject\\\\SourceCode\")\n",
    "print(\"Thư mục làm việc hiện tại:\", os.getcwd())"
   ]
  },
  {
   "cell_type": "markdown",
   "id": "7f2162c6",
   "metadata": {},
   "source": [
    "# Import modules"
   ]
  },
  {
   "cell_type": "code",
   "execution_count": 2,
   "id": "16125d31",
   "metadata": {},
   "outputs": [],
   "source": [
    "import json"
   ]
  },
  {
   "cell_type": "code",
   "execution_count": 3,
   "id": "f0b060c5",
   "metadata": {},
   "outputs": [],
   "source": [
    "from tqdm import tqdm"
   ]
  },
  {
   "cell_type": "code",
   "execution_count": 4,
   "id": "e14fac30",
   "metadata": {},
   "outputs": [],
   "source": [
    "from data_collector.product_detail.product_data_collector import collect_product_data\n",
    "from data_collector.kol_info.youtube_scraper import YoutubeScraper\n",
    "from data_collector.kol_info.tiktok_scraper import TiktokScraper"
   ]
  },
  {
   "cell_type": "markdown",
   "id": "9e272b86",
   "metadata": {},
   "source": [
    "# Collect data"
   ]
  },
  {
   "cell_type": "code",
   "execution_count": 5,
   "id": "34287eff",
   "metadata": {},
   "outputs": [],
   "source": [
    "file_path = \".\\\\dataset\\\\Link.xlsx\"\n",
    "saved_dir = \".\\\\dataset\\\\database\""
   ]
  },
  {
   "cell_type": "markdown",
   "id": "f99611d9",
   "metadata": {},
   "source": [
    "## Products"
   ]
  },
  {
   "cell_type": "code",
   "execution_count": 6,
   "id": "f3f7513f",
   "metadata": {},
   "outputs": [
    {
     "name": "stdout",
     "output_type": "stream",
     "text": [
      "*** Not update ***\n"
     ]
    }
   ],
   "source": [
    "collect_product_data(file_path, os.path.join(saved_dir, \"products\"))"
   ]
  },
  {
   "cell_type": "markdown",
   "id": "862c23cb",
   "metadata": {},
   "source": [
    "## KOLs"
   ]
  },
  {
   "cell_type": "markdown",
   "id": "839c1c12",
   "metadata": {},
   "source": [
    "### Youtube"
   ]
  },
  {
   "cell_type": "code",
   "execution_count": 7,
   "id": "f55b4015",
   "metadata": {},
   "outputs": [],
   "source": [
    "youtube_scraper = YoutubeScraper(file_path, os.path.join(saved_dir, \"kols\"))"
   ]
  },
  {
   "cell_type": "code",
   "execution_count": null,
   "id": "e99ccc27",
   "metadata": {},
   "outputs": [],
   "source": [
    "youtube_scraper.get_videos_hastags()"
   ]
  },
  {
   "cell_type": "code",
   "execution_count": null,
   "id": "52db0dbf",
   "metadata": {},
   "outputs": [
    {
     "name": "stdout",
     "output_type": "stream",
     "text": [
      "*** Start crawling ***\n",
      "*** Get KOLs information ***\n",
      "*** Update KOLs ***\n"
     ]
    },
    {
     "name": "stderr",
     "output_type": "stream",
     "text": [
      "100%|██████████| 1/1 [00:00<00:00, 992.50it/s]\n"
     ]
    },
    {
     "name": "stdout",
     "output_type": "stream",
     "text": [
      "*** Get Youtube channel information ***\n",
      "*** Get Youtube channel id ***\n"
     ]
    },
    {
     "name": "stderr",
     "output_type": "stream",
     "text": [
      "100%|██████████| 1/1 [00:00<00:00,  1.95it/s]\n",
      "100%|██████████| 1/1 [00:00<00:00,  3.51it/s]\n"
     ]
    },
    {
     "name": "stdout",
     "output_type": "stream",
     "text": [
      "*** Set up selenium driver ***\n",
      "*** Get videos information of Hoàng Minh Ngọc ***\n"
     ]
    },
    {
     "name": "stderr",
     "output_type": "stream",
     "text": [
      "100%|██████████| 301/301 [00:06<00:00, 49.61it/s]\n",
      " 48%|████▊     | 144/301 [5:05:24<6:21:18, 145.72s/it] "
     ]
    }
   ],
   "source": [
    "youtube_scraper.main()"
   ]
  },
  {
   "cell_type": "code",
   "execution_count": null,
   "id": "62b8b64a",
   "metadata": {},
   "outputs": [
    {
     "name": "stdout",
     "output_type": "stream",
     "text": [
      "*** Start crawling ***\n",
      "*** Get KOLs information ***\n",
      "*** Update KOLs ***\n"
     ]
    },
    {
     "name": "stderr",
     "output_type": "stream",
     "text": [
      "100%|██████████| 1/1 [00:00<00:00, 1012.63it/s]\n"
     ]
    },
    {
     "name": "stdout",
     "output_type": "stream",
     "text": [
      "*** Get Youtube channel information ***\n",
      "*** Get Youtube channel id ***\n"
     ]
    },
    {
     "name": "stderr",
     "output_type": "stream",
     "text": [
      "  0%|          | 0/1 [00:00<?, ?it/s]"
     ]
    },
    {
     "name": "stderr",
     "output_type": "stream",
     "text": [
      "100%|██████████| 1/1 [00:00<00:00,  1.59it/s]\n",
      "100%|██████████| 1/1 [00:00<00:00,  6.10it/s]\n"
     ]
    },
    {
     "name": "stdout",
     "output_type": "stream",
     "text": [
      "*** Set up selenium driver ***\n",
      "*** Get videos information of Hannah Olala ***\n"
     ]
    },
    {
     "name": "stderr",
     "output_type": "stream",
     "text": [
      "100%|██████████| 107/107 [00:01<00:00, 60.31it/s]\n",
      "100%|██████████| 107/107 [1:57:18<00:00, 65.78s/it]  \n"
     ]
    }
   ],
   "source": [
    "youtube_scraper.main()"
   ]
  },
  {
   "cell_type": "code",
   "execution_count": 8,
   "id": "630c42dd",
   "metadata": {},
   "outputs": [],
   "source": [
    "with open(\".\\\\dataset\\\\database\\\\kols\\\\youtube_videos_link_Hoàng Minh Ngọc.json\", \"r\", encoding=\"utf-8\") as file:\n",
    "    links = json.load(file)"
   ]
  },
  {
   "cell_type": "code",
   "execution_count": 9,
   "id": "fa395e82",
   "metadata": {},
   "outputs": [
    {
     "name": "stdout",
     "output_type": "stream",
     "text": [
      "287\n"
     ]
    }
   ],
   "source": [
    "for i, link in enumerate(links):\n",
    "    if link == \"https://www.youtube.com/watch?v=ck_ZWcItjpU\":\n",
    "        print(i)\n",
    "        break"
   ]
  },
  {
   "cell_type": "code",
   "execution_count": null,
   "id": "fa683bb1",
   "metadata": {},
   "outputs": [
    {
     "name": "stderr",
     "output_type": "stream",
     "text": [
      " 21%|██▏       | 3/14 [23:17<1:21:37, 445.27s/it]"
     ]
    }
   ],
   "source": [
    "for link in tqdm(links[287:]):\n",
    "    youtube_scraper.get_error_video_info(link, \"6\")"
   ]
  },
  {
   "cell_type": "code",
   "execution_count": null,
   "id": "33c55ca0",
   "metadata": {},
   "outputs": [],
   "source": [
    "with open(\".\\\\dataset\\\\database\\\\kols\\\\youtube_videos_detail.json\", \"r\", encoding=\"utf-8\") as file:\n",
    "    error_videos = json.load(file)"
   ]
  },
  {
   "cell_type": "code",
   "execution_count": null,
   "id": "8b1b2fa4",
   "metadata": {},
   "outputs": [],
   "source": [
    "with open(\".\\\\dataset\\\\database\\\\kols\\\\youtube_videos_error.json\", \"r\", encoding=\"utf-8\") as file:\n",
    "    error_videos = json.load(file)"
   ]
  },
  {
   "cell_type": "code",
   "execution_count": 8,
   "id": "a6a520d0",
   "metadata": {},
   "outputs": [
    {
     "name": "stderr",
     "output_type": "stream",
     "text": [
      "100%|██████████| 1/1 [01:42<00:00, 102.51s/it]\n"
     ]
    }
   ],
   "source": [
    "for video in tqdm(error_videos):\n",
    "    youtube_scraper.get_error_video_info(video[\"error_video_url\"], video[\"kol_id\"])"
   ]
  },
  {
   "cell_type": "markdown",
   "id": "4338c0ea",
   "metadata": {},
   "source": [
    "### Tiktok"
   ]
  },
  {
   "cell_type": "code",
   "execution_count": 4,
   "id": "c52b3841",
   "metadata": {},
   "outputs": [],
   "source": [
    "tiktok_scraper = TiktokScraper(file_path, os.path.join(saved_dir, \"kols\"))"
   ]
  },
  {
   "cell_type": "code",
   "execution_count": null,
   "id": "e1e1aa9d",
   "metadata": {},
   "outputs": [],
   "source": [
    "from data_preparation.utils import scale\n",
    "\n",
    "scale(\"draft_2.json\", \"\", \"youtube\")"
   ]
  },
  {
   "cell_type": "code",
   "execution_count": null,
   "id": "c6ca73a4",
   "metadata": {},
   "outputs": [],
   "source": []
  }
 ],
 "metadata": {
  "kernelspec": {
   "display_name": ".venv",
   "language": "python",
   "name": "python3"
  },
  "language_info": {
   "codemirror_mode": {
    "name": "ipython",
    "version": 3
   },
   "file_extension": ".py",
   "mimetype": "text/x-python",
   "name": "python",
   "nbconvert_exporter": "python",
   "pygments_lexer": "ipython3",
   "version": "3.11.9"
  }
 },
 "nbformat": 4,
 "nbformat_minor": 5
}
