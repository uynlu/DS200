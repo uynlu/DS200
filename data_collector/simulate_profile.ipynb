{
 "cells": [
  {
   "cell_type": "code",
   "execution_count": 1,
   "id": "f0651e9b",
   "metadata": {},
   "outputs": [
    {
     "name": "stdout",
     "output_type": "stream",
     "text": [
      "Thư mục làm việc hiện tại: U:\\DataStorage\\UIT\\Semesters\\Semester6\\DS200\\CourseProject\\SourceCode\n"
     ]
    }
   ],
   "source": [
    "import os\n",
    "\n",
    "os.chdir(\"U:\\\\DataStorage\\\\UIT\\\\Semesters\\\\Semester6\\\\DS200\\\\CourseProject\\\\SourceCode\")\n",
    "print(\"Thư mục làm việc hiện tại:\", os.getcwd())"
   ]
  },
  {
   "cell_type": "markdown",
   "id": "d3131bfa",
   "metadata": {},
   "source": [
    "# Import modules"
   ]
  },
  {
   "cell_type": "code",
   "execution_count": 2,
   "id": "101683ff",
   "metadata": {},
   "outputs": [],
   "source": [
    "from data_collector.utils import set_up_driver"
   ]
  },
  {
   "cell_type": "markdown",
   "id": "70a118db",
   "metadata": {},
   "source": [
    "# Simulate profile"
   ]
  },
  {
   "cell_type": "code",
   "execution_count": 3,
   "id": "23934724",
   "metadata": {},
   "outputs": [],
   "source": [
    "driver = set_up_driver()"
   ]
  },
  {
   "cell_type": "code",
   "execution_count": 8,
   "id": "306903cf",
   "metadata": {},
   "outputs": [],
   "source": [
    "driver.get(\"https://www.youtube.com/watch?v=uEujnrlo4PM\")"
   ]
  },
  {
   "cell_type": "code",
   "execution_count": 4,
   "id": "f687e0ed",
   "metadata": {},
   "outputs": [],
   "source": [
    "driver.quit()"
   ]
  },
  {
   "cell_type": "code",
   "execution_count": null,
   "id": "e0bbe23c",
   "metadata": {},
   "outputs": [],
   "source": []
  }
 ],
 "metadata": {
  "kernelspec": {
   "display_name": ".venv",
   "language": "python",
   "name": "python3"
  },
  "language_info": {
   "codemirror_mode": {
    "name": "ipython",
    "version": 3
   },
   "file_extension": ".py",
   "mimetype": "text/x-python",
   "name": "python",
   "nbconvert_exporter": "python",
   "pygments_lexer": "ipython3",
   "version": "3.11.9"
  }
 },
 "nbformat": 4,
 "nbformat_minor": 5
}
